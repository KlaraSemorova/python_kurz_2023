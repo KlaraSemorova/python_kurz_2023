{
 "cells": [
  {
   "cell_type": "code",
   "execution_count": 1,
   "metadata": {},
   "outputs": [
    {
     "name": "stdout",
     "output_type": "stream",
     "text": [
      "       id             nazev_cz                     nazev_en       trida_cz  \\\n",
      "0       7          Šváb syčivý  Madagascar giant cockroach      Bezobratlí   \n",
      "1       8  Pakobylka okřídlená     Pink-winged stick insect     Bezobratlí   \n",
      "2      16                Tayra                        Tayra          Savci   \n",
      "3      35        Kajmanka supí    Alligator snapping turtle          Plazi   \n",
      "4      37      Želva žlutočelá       Indochinese box turtle          Plazi   \n",
      "..    ...                  ...                          ...            ...   \n",
      "508  1417  Rosnice šalamounská                               Obojživelníci   \n",
      "509  1418       Létavka obecná                               Obojživelníci   \n",
      "510  1419          Bažant paví                                       Ptáci   \n",
      "511  1420  Sojkovec rezavouchý                                       Ptáci   \n",
      "512  1421   Kachnice kaštanová                                       Ptáci   \n",
      "\n",
      "     cena  k_prohlidce  \n",
      "0    1000            1  \n",
      "1    1000            1  \n",
      "2    5000            1  \n",
      "3    2000            1  \n",
      "4    1000            1  \n",
      "..    ...          ...  \n",
      "508  1000            1  \n",
      "509  1000            1  \n",
      "510  1000            1  \n",
      "511  1000            1  \n",
      "512  1000            1  \n",
      "\n",
      "[513 rows x 6 columns]\n"
     ]
    }
   ],
   "source": [
    "import pandas\n",
    "\n",
    "zvirata = pandas.read_csv(\"adopce_zvirat.csv\", sep=\";\")\n",
    "\n",
    "print(zvirata)"
   ]
  },
  {
   "cell_type": "code",
   "execution_count": 2,
   "metadata": {},
   "outputs": [
    {
     "name": "stdout",
     "output_type": "stream",
     "text": [
      "Tabulka má 513 řádku a 6 sloupců.\n",
      "Názvy sloupců jsou: Index(['id', 'nazev_cz', 'nazev_en', 'trida_cz', 'cena', 'k_prohlidce'], dtype='object')\n"
     ]
    }
   ],
   "source": [
    "\n",
    "print(f\"Tabulka má {zvirata.shape[0]} řádku a {zvirata.shape[1]} sloupců.\")\n",
    "print(f\"Názvy sloupců jsou: {zvirata.columns}\")"
   ]
  },
  {
   "cell_type": "code",
   "execution_count": 3,
   "metadata": {},
   "outputs": [
    {
     "name": "stdout",
     "output_type": "stream",
     "text": [
      "nazev_cz     Ibis bílý\n",
      "nazev_en    White ibis\n",
      "Name: 34, dtype: object\n"
     ]
    }
   ],
   "source": [
    "print(zvirata.iloc[34, 1:3])"
   ]
  },
  {
   "cell_type": "code",
   "execution_count": 18,
   "metadata": {},
   "outputs": [
    {
     "data": {
      "text/html": [
       "<div>\n",
       "<style scoped>\n",
       "    .dataframe tbody tr th:only-of-type {\n",
       "        vertical-align: middle;\n",
       "    }\n",
       "\n",
       "    .dataframe tbody tr th {\n",
       "        vertical-align: top;\n",
       "    }\n",
       "\n",
       "    .dataframe thead th {\n",
       "        text-align: right;\n",
       "    }\n",
       "</style>\n",
       "<table border=\"1\" class=\"dataframe\">\n",
       "  <thead>\n",
       "    <tr style=\"text-align: right;\">\n",
       "      <th></th>\n",
       "      <th>id</th>\n",
       "      <th>nazev_cz</th>\n",
       "      <th>nazev_en</th>\n",
       "      <th>trida_cz</th>\n",
       "      <th>cena</th>\n",
       "      <th>k_prohlidce</th>\n",
       "    </tr>\n",
       "  </thead>\n",
       "  <tbody>\n",
       "    <tr>\n",
       "      <th>113</th>\n",
       "      <td>334</td>\n",
       "      <td>Tygr ussurijský</td>\n",
       "      <td>Siberian tiger</td>\n",
       "      <td>Savci</td>\n",
       "      <td>50000</td>\n",
       "      <td>1</td>\n",
       "    </tr>\n",
       "    <tr>\n",
       "      <th>114</th>\n",
       "      <td>335</td>\n",
       "      <td>Tygr sumaterský</td>\n",
       "      <td>Sumatran tiger</td>\n",
       "      <td>Savci</td>\n",
       "      <td>50000</td>\n",
       "      <td>1</td>\n",
       "    </tr>\n",
       "    <tr>\n",
       "      <th>128</th>\n",
       "      <td>381</td>\n",
       "      <td>Slon indický</td>\n",
       "      <td>Asian elephant</td>\n",
       "      <td>Savci</td>\n",
       "      <td>50000</td>\n",
       "      <td>1</td>\n",
       "    </tr>\n",
       "    <tr>\n",
       "      <th>129</th>\n",
       "      <td>385</td>\n",
       "      <td>Hroch obojživelný</td>\n",
       "      <td>Hippopotamus</td>\n",
       "      <td>Savci</td>\n",
       "      <td>50000</td>\n",
       "      <td>1</td>\n",
       "    </tr>\n",
       "    <tr>\n",
       "      <th>135</th>\n",
       "      <td>396</td>\n",
       "      <td>Žirafa severní núbijská (= Rothschildova)</td>\n",
       "      <td>Rothschild's giraffe</td>\n",
       "      <td>Savci</td>\n",
       "      <td>50000</td>\n",
       "      <td>1</td>\n",
       "    </tr>\n",
       "    <tr>\n",
       "      <th>272</th>\n",
       "      <td>897</td>\n",
       "      <td>Tygr malajský</td>\n",
       "      <td>Malayan tiger</td>\n",
       "      <td>Savci</td>\n",
       "      <td>50000</td>\n",
       "      <td>1</td>\n",
       "    </tr>\n",
       "  </tbody>\n",
       "</table>\n",
       "</div>"
      ],
      "text/plain": [
       "      id                                   nazev_cz                nazev_en  \\\n",
       "113  334                            Tygr ussurijský          Siberian tiger   \n",
       "114  335                            Tygr sumaterský          Sumatran tiger   \n",
       "128  381                               Slon indický          Asian elephant   \n",
       "129  385                          Hroch obojživelný            Hippopotamus   \n",
       "135  396  Žirafa severní núbijská (= Rothschildova)  Rothschild's giraffe     \n",
       "272  897                              Tygr malajský           Malayan tiger   \n",
       "\n",
       "    trida_cz   cena  k_prohlidce  \n",
       "113    Savci  50000            1  \n",
       "114    Savci  50000            1  \n",
       "128    Savci  50000            1  \n",
       "129    Savci  50000            1  \n",
       "135    Savci  50000            1  \n",
       "272    Savci  50000            1  "
      ]
     },
     "execution_count": 18,
     "metadata": {},
     "output_type": "execute_result"
    }
   ],
   "source": [
    "# bonus - nejdražší\n",
    "zvirata.loc[zvirata[\"cena\"] == zvirata[\"cena\"].max()]\n"
   ]
  },
  {
   "cell_type": "code",
   "execution_count": 47,
   "metadata": {},
   "outputs": [
    {
     "name": "stdout",
     "output_type": "stream",
     "text": [
      "Abecedně je poslední v čestině Žluva hajní\n"
     ]
    }
   ],
   "source": [
    "# bonus - alfabeticky poslední v češtině\n",
    "zvirata_abecedne_cz = (zvirata.sort_values(by=\"nazev_cz\"))\n",
    "print(f\"Alfabeticky je poslední v čestině {zvirata_abecedne_cz.iloc[-1, 1]}.\")"
   ]
  },
  {
   "cell_type": "code",
   "execution_count": 48,
   "metadata": {},
   "outputs": [
    {
     "name": "stdout",
     "output_type": "stream",
     "text": [
      "Alfabeticky je poslední v angličtině Yellow-necked francolin.\n"
     ]
    }
   ],
   "source": [
    "# bonus - abecedně poslední v angličtině\n",
    "zvirata_abecedne_en = (zvirata.sort_values(by=\"nazev_en\"))\n",
    "print(f\"Alfabeticky je poslední v angličtině {zvirata_abecedne_en.iloc[-1, 2]}.\")"
   ]
  },
  {
   "cell_type": "code",
   "execution_count": 33,
   "metadata": {},
   "outputs": [
    {
     "name": "stdout",
     "output_type": "stream",
     "text": [
      "Je možné si prohlédnout 458 zvířat.\n",
      "K prohlídce není 55 zvířat.\n"
     ]
    }
   ],
   "source": [
    "# bonus - další zjištění: kolik zvířat je k prohlídce\n",
    "zvirata_k_prohlidce = zvirata[zvirata[\"k_prohlidce\"] == 1]\n",
    "print(f\"Je možné si prohlédnout {zvirata_k_prohlidce.shape[0]} zvířat.\")\n",
    "print(f\"K prohlídce není {zvirata.shape[0] - zvirata_k_prohlidce.shape[0]} zvířat.\")"
   ]
  }
 ],
 "metadata": {
  "kernelspec": {
   "display_name": "Python 3",
   "language": "python",
   "name": "python3"
  },
  "language_info": {
   "codemirror_mode": {
    "name": "ipython",
    "version": 3
   },
   "file_extension": ".py",
   "mimetype": "text/x-python",
   "name": "python",
   "nbconvert_exporter": "python",
   "pygments_lexer": "ipython3",
   "version": "3.11.0"
  }
 },
 "nbformat": 4,
 "nbformat_minor": 2
}
