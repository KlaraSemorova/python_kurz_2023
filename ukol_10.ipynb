{
 "cells": [
  {
   "cell_type": "code",
   "execution_count": 1,
   "metadata": {},
   "outputs": [],
   "source": [
    "import pandas\n",
    "import matplotlib.pyplot as plt"
   ]
  },
  {
   "cell_type": "code",
   "execution_count": 5,
   "metadata": {},
   "outputs": [
    {
     "name": "stdout",
     "output_type": "stream",
     "text": [
      "    cislo_zamestnance     plat\n",
      "0                   3  54900.0\n",
      "1                   6  54800.0\n",
      "2                   7  36400.0\n",
      "3                   8  47900.0\n",
      "4                  16  34200.0\n",
      "5                  18  35400.0\n",
      "6                  21  54200.0\n",
      "7                  22  34400.0\n",
      "8                  23  39000.0\n",
      "9                  24  44200.0\n",
      "10                 26  59600.0\n",
      "11                 27  45100.0\n",
      "12                 28  38100.0\n",
      "13                 29  48900.0\n",
      "14                 30  33500.0\n",
      "15                 32  53000.0\n",
      "16                 33  38400.0\n",
      "17                 34  36800.0\n",
      "18                 38  32600.0\n",
      "19                 40  32800.0\n",
      "20                 41  49300.0\n",
      "21                 44  52000.0\n",
      "22                 47  40700.0\n",
      "23                 49  58400.0\n",
      "24                 51  37100.0\n",
      "25                 56  39300.0\n",
      "26                 57  36800.0\n",
      "27                 63  31400.0\n",
      "28                 64  36900.0\n",
      "29                 69  32600.0\n",
      "30                 70  52600.0\n",
      "31                 74  49300.0\n",
      "32                 76  55400.0\n",
      "33                 78  52600.0\n",
      "34                 80  57700.0\n",
      "35                 83  46500.0\n",
      "36                 84  38600.0\n",
      "37                 85  44200.0\n",
      "38                 87  49900.0\n",
      "39                 90  41100.0\n",
      "40                 92  48100.0\n",
      "41                 95  31600.0\n",
      "42                 96  50200.0\n"
     ]
    }
   ],
   "source": [
    "platy = pandas.read_csv(\"platy_2021_02.csv\")\n",
    "print(platy)"
   ]
  },
  {
   "cell_type": "code",
   "execution_count": 7,
   "metadata": {},
   "outputs": [
    {
     "data": {
      "text/plain": [
       "<Axes: >"
      ]
     },
     "execution_count": 7,
     "metadata": {},
     "output_type": "execute_result"
    },
    {
     "data": {
      "image/png": "[encoded data removed]",
      "text/plain": [
       "<Figure size 640x480 with 1 Axes>"
      ]
     },
     "metadata": {},
     "output_type": "display_data"
    }
   ],
   "source": [
    "# platy[\"plat\"].min()\n",
    "# platy[\"plat\"].max()\n",
    "\n",
    "platy[\"plat\"].hist(bins=[30000, 35000, 40000, 45000, 50000, 55000, 60000])"
   ]
  }
 ],
 "metadata": {
  "kernelspec": {
   "display_name": "Python 3",
   "language": "python",
   "name": "python3"
  },
  "language_info": {
   "codemirror_mode": {
    "name": "ipython",
    "version": 3
   },
   "file_extension": ".py",
   "mimetype": "text/x-python",
   "name": "python",
   "nbconvert_exporter": "python",
   "pygments_lexer": "ipython3",
   "version": "3.11.0"
  }
 },
 "nbformat": 4,
 "nbformat_minor": 2
}
